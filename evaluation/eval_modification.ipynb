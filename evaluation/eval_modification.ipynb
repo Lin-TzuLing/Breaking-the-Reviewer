{
 "cells": [
  {
   "cell_type": "markdown",
   "id": "062be416",
   "metadata": {},
   "source": [
    "### Quantify the degree of changes.\n",
    "(1) **Modification Rate**: measures the percentage of tokens altered relative to the original text.\n",
    "\n",
    "(2) **Semantic Similarity**: measured by BERTScore, to assess how closely the adversarial texts preserve the original semantics."
   ]
  },
  {
   "cell_type": "markdown",
   "id": "37540ae1",
   "metadata": {},
   "source": [
    "Set Path"
   ]
  },
  {
   "cell_type": "code",
   "execution_count": null,
   "id": "466dfadf",
   "metadata": {},
   "outputs": [],
   "source": [
    "import difflib\n",
    "import json\n",
    "import os\n",
    "import re\n",
    "\n",
    "from typing import List, Tuple\n",
    "from bert_score import score as bert_score\n",
    "\n",
    "# Directory configuration\n",
    "DATASET_NAME = \"PeerRead\"\n",
    "# DATASET_NAME = \"AgentReview\"    \n",
    "DATASET_FULL_NAME = \"PeerRead_iclr_2017\" if DATASET_NAME == \"PeerRead\" else \"AgentReview\"\n",
    "\n",
    "ATTACK_NAME = \"DeepWordBug\"\n",
    "MODEL_NAME = \"gpt-4o-mini\"\n",
    "\n",
    "JSONL_PATH = f\"../result_EMNLP/{DATASET_FULL_NAME}/{MODEL_NAME}/{ATTACK_NAME}/{ATTACK_NAME}_ExplainFalse.jsonl\"\n",
    "OUTPUT_DIR = f\"../evaluation_EMNLP/result_modification/{DATASET_NAME}/{MODEL_NAME}/\"\n",
    "\n",
    "os.makedirs(OUTPUT_DIR, exist_ok=True)"
   ]
  },
  {
   "cell_type": "markdown",
   "id": "ece75781",
   "metadata": {},
   "source": [
    "Get modification in content"
   ]
  },
  {
   "cell_type": "code",
   "execution_count": null,
   "id": "f9b4d3b9",
   "metadata": {},
   "outputs": [],
   "source": [
    "def clean_parsed_text(text):\n",
    "    \"\"\"Clean the parsed text by removing unnecessary tags and formatting.\"\"\"\n",
    "    text = text.replace(\"<UnmodifiableEnd>\", \"\").replace(\"<UnmodifiableStart>\", \"\") # remove <Unmodifiable> tags\n",
    "    text = text.replace(\"\\n\", \" \").strip() # remove newlines and standardize spaces\n",
    "    text = re.sub(r'\\s+', ' ', text)   # remove extra spaces\n",
    "    return text.strip()\n",
    "\n",
    "\n",
    "def get_diff_sentences(original: str, attacked: str, max_diff=3):\n",
    "    \"\"\"Get the differences between original and attacked sentences.\"\"\"\n",
    "    original_sents = re.split(r'(?<=[。！？.!?])\\s+', original)\n",
    "    attacked_sents = re.split(r'(?<=[。！？.!?])\\s+', attacked)\n",
    "\n",
    "    diff = []\n",
    "    for o_sent, a_sent in zip(original_sents, attacked_sents):\n",
    "        if o_sent.strip() != a_sent.strip():\n",
    "            diff.append((o_sent.strip(), a_sent.strip()))\n",
    "        if len(diff) >= max_diff:\n",
    "            break\n",
    "    return diff\n",
    "\n",
    "\n",
    "def compute_char_changed_rate(original: str, attacked: str) -> float:\n",
    "    \"\"\"\n",
    "    Compute the normalized character-level changed rate between original and attacked text.\n",
    "    \"\"\"\n",
    "    seq = difflib.SequenceMatcher(None, original, attacked)\n",
    "    \n",
    "    changed_chars = sum(\n",
    "        max(i2 - i1, j2 - j1)\n",
    "        for tag, i1, i2, j1, j2 in seq.get_opcodes()\n",
    "        if tag != 'equal'\n",
    "    )\n",
    "    \n",
    "    avg_len = (len(original) + len(attacked)) / 2\n",
    "    return changed_chars / avg_len if avg_len > 0 else 0.0"
   ]
  },
  {
   "cell_type": "code",
   "execution_count": null,
   "id": "67119a95",
   "metadata": {},
   "outputs": [],
   "source": [
    "# average BERTScore and char-based changed rate\n",
    "def evaluate_attack_metrics(pairs: List[Tuple[str, str]], lang='en') -> dict:\n",
    "    originals = [o for o, _ in pairs]\n",
    "    attacks = [a for _, a in pairs]\n",
    "\n",
    "    # BERTScore calculation (returns P/R/F1)\n",
    "    P, R, F1 = bert_score(attacks, originals, lang=lang, verbose=False)\n",
    "\n",
    "    # Average char-based changed rate\n",
    "    changed_rates = [compute_char_changed_rate(o, a) for o, a in pairs]\n",
    "\n",
    "    return {\n",
    "        \"Avg_Char_Changed_Rate\": sum(changed_rates) / len(changed_rates),\n",
    "        \"Avg_BERTScore_P\": float(P.mean()),\n",
    "        \"Avg_BERTScore_R\": float(R.mean()),\n",
    "        \"Avg_BERTScore_F1\": float(F1.mean()),\n",
    "    }"
   ]
  },
  {
   "cell_type": "code",
   "execution_count": null,
   "id": "b3a94b89",
   "metadata": {},
   "outputs": [],
   "source": [
    "# Step 1: Read JSONL and build paper_id -> difference sentence mapping\n",
    "all_diffs = []\n",
    "with open(JSONL_PATH, 'r', encoding='utf-8') as f:\n",
    "    for line in f:\n",
    "        data = json.loads(line)\n",
    "        paper_id = data['paper_id']\n",
    "        \n",
    "        original = clean_parsed_text(data['original_content'])\n",
    "        attacked = clean_parsed_text(data['attacked_content'])\n",
    "        diffs = get_diff_sentences(original, attacked, max_diff=10)\n",
    "        if diffs:\n",
    "            all_diffs.extend([t for t in diffs])\n",
    "\n",
    "# Step 2: Calculate average character change rate\n",
    "result = evaluate_attack_metrics(all_diffs, lang='en')\n",
    "verbose = f\"Avg_Char_Changed_Rate: {result['Avg_Char_Changed_Rate']:.4f}\\n\" \\\n",
    "            f\"Avg_BERTScore_P: {result['Avg_BERTScore_P']:.4f}\\n\" \\\n",
    "            f\"Avg_BERTScore_R: {result['Avg_BERTScore_R']:.4f}\\n\" \\\n",
    "            f\"Avg_BERTScore_F1: {result['Avg_BERTScore_F1']:.4f}\\n\"\n",
    "print(verbose)\n",
    "\n",
    "# Step 3: Save results\n",
    "output_path = os.path.join(OUTPUT_DIR, f\"{ATTACK_NAME}_modification_metric.txt\")\n",
    "with open(output_path, 'w', encoding='utf-8') as f:\n",
    "    f.write(verbose)"
   ]
  }
 ],
 "metadata": {
  "kernelspec": {
   "display_name": "LLM_reviewer",
   "language": "python",
   "name": "python3"
  },
  "language_info": {
   "codemirror_mode": {
    "name": "ipython",
    "version": 3
   },
   "file_extension": ".py",
   "mimetype": "text/x-python",
   "name": "python",
   "nbconvert_exporter": "python",
   "pygments_lexer": "ipython3",
   "version": "3.9.7"
  }
 },
 "nbformat": 4,
 "nbformat_minor": 5
}
